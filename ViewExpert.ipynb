{
 "cells": [
  {
   "cell_type": "code",
   "execution_count": 8,
   "metadata": {},
   "outputs": [
    {
     "name": "stdout",
     "output_type": "stream",
     "text": [
      "Expert dataset initialized!\n",
      "length  1000000\n",
      "states  torch.Size([1000, 1000, 17])\n",
      "tensor([221.7466])\n"
     ]
    }
   ],
   "source": [
    "# 测试 expert.py 中的 Expert\n",
    "# 查看保存的 expert 数据\n",
    "# liyi, 2019/6/27\n",
    "\n",
    "from expert import Expert\n",
    "\n",
    "env_name = ['HalfCheetah-v2', 'Hopper-v2', 'Walker2d-v2']\n",
    "expert_dir = './expert_data/ppo_1/'+env_name[0]\n",
    "data = Expert(expert_dir)\n",
    "print(data.value(num_episodes=50))"
   ]
  },
  {
   "cell_type": "code",
   "execution_count": 25,
   "metadata": {},
   "outputs": [
    {
     "data": {
      "text/plain": [
       "(tensor([ 1.1508, -0.2229, -1.6399,  1.6692,  0.7671,  0.5697, -1.6333, -0.3612,\n",
       "          0.8593, -0.5344, -0.6183, -1.4405, -0.1712, -1.2628,  1.9101,  0.9054,\n",
       "          0.6573]),\n",
       " tensor([ 0.5223,  1.6358, -0.4896,  1.3355,  0.4000,  0.5409]),\n",
       " tensor([1.1004]),\n",
       " tensor(0.))"
      ]
     },
     "execution_count": 25,
     "metadata": {},
     "output_type": "execute_result"
    }
   ],
   "source": [
    "data.__getitem__(500015)"
   ]
  },
  {
   "cell_type": "code",
   "execution_count": null,
   "metadata": {},
   "outputs": [],
   "source": []
  }
 ],
 "metadata": {
  "kernelspec": {
   "display_name": "Python 3",
   "language": "python",
   "name": "python3"
  },
  "language_info": {
   "codemirror_mode": {
    "name": "ipython",
    "version": 3
   },
   "file_extension": ".py",
   "mimetype": "text/x-python",
   "name": "python",
   "nbconvert_exporter": "python",
   "pygments_lexer": "ipython3",
   "version": "3.6.5"
  }
 },
 "nbformat": 4,
 "nbformat_minor": 2
}
